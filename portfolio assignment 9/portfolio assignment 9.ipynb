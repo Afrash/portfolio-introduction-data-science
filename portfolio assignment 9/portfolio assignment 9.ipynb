{
 "cells": [
  {
   "cell_type": "markdown",
   "metadata": {},
   "source": [
    "# Bivariate analyses"
   ]
  },
  {
   "cell_type": "code",
   "execution_count": 2,
   "metadata": {},
   "outputs": [],
   "source": [
    "#Numerical vs numerical"
   ]
  },
  {
   "cell_type": "code",
   "execution_count": 5,
   "metadata": {},
   "outputs": [],
   "source": [
    "import pandas as pd\n",
    "import seaborn as sns"
   ]
  },
  {
   "cell_type": "code",
   "execution_count": 6,
   "metadata": {},
   "outputs": [],
   "source": [
    "penguins = sns.load_dataset(\"penguins\")"
   ]
  },
  {
   "cell_type": "code",
   "execution_count": 7,
   "metadata": {},
   "outputs": [
    {
     "data": {
      "text/html": [
       "<div>\n",
       "<style scoped>\n",
       "    .dataframe tbody tr th:only-of-type {\n",
       "        vertical-align: middle;\n",
       "    }\n",
       "\n",
       "    .dataframe tbody tr th {\n",
       "        vertical-align: top;\n",
       "    }\n",
       "\n",
       "    .dataframe thead th {\n",
       "        text-align: right;\n",
       "    }\n",
       "</style>\n",
       "<table border=\"1\" class=\"dataframe\">\n",
       "  <thead>\n",
       "    <tr style=\"text-align: right;\">\n",
       "      <th></th>\n",
       "      <th>species</th>\n",
       "      <th>island</th>\n",
       "      <th>bill_length_mm</th>\n",
       "      <th>bill_depth_mm</th>\n",
       "      <th>flipper_length_mm</th>\n",
       "      <th>body_mass_g</th>\n",
       "      <th>sex</th>\n",
       "    </tr>\n",
       "  </thead>\n",
       "  <tbody>\n",
       "    <tr>\n",
       "      <th>0</th>\n",
       "      <td>Adelie</td>\n",
       "      <td>Torgersen</td>\n",
       "      <td>39.1</td>\n",
       "      <td>18.7</td>\n",
       "      <td>181.0</td>\n",
       "      <td>3750.0</td>\n",
       "      <td>MALE</td>\n",
       "    </tr>\n",
       "    <tr>\n",
       "      <th>1</th>\n",
       "      <td>Adelie</td>\n",
       "      <td>Torgersen</td>\n",
       "      <td>39.5</td>\n",
       "      <td>17.4</td>\n",
       "      <td>186.0</td>\n",
       "      <td>3800.0</td>\n",
       "      <td>FEMALE</td>\n",
       "    </tr>\n",
       "    <tr>\n",
       "      <th>2</th>\n",
       "      <td>Adelie</td>\n",
       "      <td>Torgersen</td>\n",
       "      <td>40.3</td>\n",
       "      <td>18.0</td>\n",
       "      <td>195.0</td>\n",
       "      <td>3250.0</td>\n",
       "      <td>FEMALE</td>\n",
       "    </tr>\n",
       "    <tr>\n",
       "      <th>3</th>\n",
       "      <td>Adelie</td>\n",
       "      <td>Torgersen</td>\n",
       "      <td>NaN</td>\n",
       "      <td>NaN</td>\n",
       "      <td>NaN</td>\n",
       "      <td>NaN</td>\n",
       "      <td>NaN</td>\n",
       "    </tr>\n",
       "    <tr>\n",
       "      <th>4</th>\n",
       "      <td>Adelie</td>\n",
       "      <td>Torgersen</td>\n",
       "      <td>36.7</td>\n",
       "      <td>19.3</td>\n",
       "      <td>193.0</td>\n",
       "      <td>3450.0</td>\n",
       "      <td>FEMALE</td>\n",
       "    </tr>\n",
       "  </tbody>\n",
       "</table>\n",
       "</div>"
      ],
      "text/plain": [
       "  species     island  bill_length_mm  bill_depth_mm  flipper_length_mm  \\\n",
       "0  Adelie  Torgersen            39.1           18.7              181.0   \n",
       "1  Adelie  Torgersen            39.5           17.4              186.0   \n",
       "2  Adelie  Torgersen            40.3           18.0              195.0   \n",
       "3  Adelie  Torgersen             NaN            NaN                NaN   \n",
       "4  Adelie  Torgersen            36.7           19.3              193.0   \n",
       "\n",
       "   body_mass_g     sex  \n",
       "0       3750.0    MALE  \n",
       "1       3800.0  FEMALE  \n",
       "2       3250.0  FEMALE  \n",
       "3          NaN     NaN  \n",
       "4       3450.0  FEMALE  "
      ]
     },
     "execution_count": 7,
     "metadata": {},
     "output_type": "execute_result"
    }
   ],
   "source": [
    "penguins.head()"
   ]
  },
  {
   "cell_type": "code",
   "execution_count": 8,
   "metadata": {},
   "outputs": [
    {
     "data": {
      "text/plain": [
       "<matplotlib.axes._subplots.AxesSubplot at 0x2086bb13390>"
      ]
     },
     "execution_count": 8,
     "metadata": {},
     "output_type": "execute_result"
    },
    {
     "data": {
      "image/png": "[encoded data removed]",
      "text/plain": [
       "<Figure size 432x288 with 1 Axes>"
      ]
     },
     "metadata": {
      "needs_background": "light"
     },
     "output_type": "display_data"
    }
   ],
   "source": [
    "penguins.plot(kind='scatter', x='bill_length_mm', y='bill_depth_mm')"
   ]
  },
  {
   "cell_type": "markdown",
   "metadata": {},
   "source": [
    " pearson correlation = 1 cijfer om de relatie tussen 2 numerical coloms tot 1 cijfer te brengen. hoe sterk de 2 kollommen met elkaar een lineair verband hebbe. niet alle verbanden in de wereld zijn lineair. Pearson correlation meet dus eigenlijk gewoon het linaire verband"
   ]
  },
  {
   "cell_type": "markdown",
   "metadata": {},
   "source": [
    "# hier zie je alle correlaties"
   ]
  },
  {
   "cell_type": "code",
   "execution_count": 34,
   "metadata": {},
   "outputs": [
    {
     "data": {
      "text/html": [
       "<style  type=\"text/css\" >\n",
       "    #T_08752792_6a51_11eb_ab74_1c1b0d0d1950row0_col0 {\n",
       "            background-color:  #b40426;\n",
       "        }    #T_08752792_6a51_11eb_ab74_1c1b0d0d1950row0_col1 {\n",
       "            background-color:  #82a6fb;\n",
       "        }    #T_08752792_6a51_11eb_ab74_1c1b0d0d1950row0_col2 {\n",
       "            background-color:  #f08b6e;\n",
       "        }    #T_08752792_6a51_11eb_ab74_1c1b0d0d1950row0_col3 {\n",
       "            background-color:  #f6a385;\n",
       "        }    #T_08752792_6a51_11eb_ab74_1c1b0d0d1950row1_col0 {\n",
       "            background-color:  #3b4cc0;\n",
       "        }    #T_08752792_6a51_11eb_ab74_1c1b0d0d1950row1_col1 {\n",
       "            background-color:  #b40426;\n",
       "        }    #T_08752792_6a51_11eb_ab74_1c1b0d0d1950row1_col2 {\n",
       "            background-color:  #3b4cc0;\n",
       "        }    #T_08752792_6a51_11eb_ab74_1c1b0d0d1950row1_col3 {\n",
       "            background-color:  #3b4cc0;\n",
       "        }    #T_08752792_6a51_11eb_ab74_1c1b0d0d1950row2_col0 {\n",
       "            background-color:  #f6a586;\n",
       "        }    #T_08752792_6a51_11eb_ab74_1c1b0d0d1950row2_col1 {\n",
       "            background-color:  #3b4cc0;\n",
       "        }    #T_08752792_6a51_11eb_ab74_1c1b0d0d1950row2_col2 {\n",
       "            background-color:  #b40426;\n",
       "        }    #T_08752792_6a51_11eb_ab74_1c1b0d0d1950row2_col3 {\n",
       "            background-color:  #d24b40;\n",
       "        }    #T_08752792_6a51_11eb_ab74_1c1b0d0d1950row3_col0 {\n",
       "            background-color:  #f7b599;\n",
       "        }    #T_08752792_6a51_11eb_ab74_1c1b0d0d1950row3_col1 {\n",
       "            background-color:  #506bda;\n",
       "        }    #T_08752792_6a51_11eb_ab74_1c1b0d0d1950row3_col2 {\n",
       "            background-color:  #d0473d;\n",
       "        }    #T_08752792_6a51_11eb_ab74_1c1b0d0d1950row3_col3 {\n",
       "            background-color:  #b40426;\n",
       "        }</style>  \n",
       "<table id=\"T_08752792_6a51_11eb_ab74_1c1b0d0d1950\" > \n",
       "<thead>    <tr> \n",
       "        <th class=\"blank level0\" ></th> \n",
       "        <th class=\"col_heading level0 col0\" >bill_length_mm</th> \n",
       "        <th class=\"col_heading level0 col1\" >bill_depth_mm</th> \n",
       "        <th class=\"col_heading level0 col2\" >flipper_length_mm</th> \n",
       "        <th class=\"col_heading level0 col3\" >body_mass_g</th> \n",
       "    </tr></thead> \n",
       "<tbody>    <tr> \n",
       "        <th id=\"T_08752792_6a51_11eb_ab74_1c1b0d0d1950level0_row0\" class=\"row_heading level0 row0\" >bill_length_mm</th> \n",
       "        <td id=\"T_08752792_6a51_11eb_ab74_1c1b0d0d1950row0_col0\" class=\"data row0 col0\" >1</td> \n",
       "        <td id=\"T_08752792_6a51_11eb_ab74_1c1b0d0d1950row0_col1\" class=\"data row0 col1\" >-0.24</td> \n",
       "        <td id=\"T_08752792_6a51_11eb_ab74_1c1b0d0d1950row0_col2\" class=\"data row0 col2\" >0.66</td> \n",
       "        <td id=\"T_08752792_6a51_11eb_ab74_1c1b0d0d1950row0_col3\" class=\"data row0 col3\" >0.6</td> \n",
       "    </tr>    <tr> \n",
       "        <th id=\"T_08752792_6a51_11eb_ab74_1c1b0d0d1950level0_row1\" class=\"row_heading level0 row1\" >bill_depth_mm</th> \n",
       "        <td id=\"T_08752792_6a51_11eb_ab74_1c1b0d0d1950row1_col0\" class=\"data row1 col0\" >-0.24</td> \n",
       "        <td id=\"T_08752792_6a51_11eb_ab74_1c1b0d0d1950row1_col1\" class=\"data row1 col1\" >1</td> \n",
       "        <td id=\"T_08752792_6a51_11eb_ab74_1c1b0d0d1950row1_col2\" class=\"data row1 col2\" >-0.58</td> \n",
       "        <td id=\"T_08752792_6a51_11eb_ab74_1c1b0d0d1950row1_col3\" class=\"data row1 col3\" >-0.47</td> \n",
       "    </tr>    <tr> \n",
       "        <th id=\"T_08752792_6a51_11eb_ab74_1c1b0d0d1950level0_row2\" class=\"row_heading level0 row2\" >flipper_length_mm</th> \n",
       "        <td id=\"T_08752792_6a51_11eb_ab74_1c1b0d0d1950row2_col0\" class=\"data row2 col0\" >0.66</td> \n",
       "        <td id=\"T_08752792_6a51_11eb_ab74_1c1b0d0d1950row2_col1\" class=\"data row2 col1\" >-0.58</td> \n",
       "        <td id=\"T_08752792_6a51_11eb_ab74_1c1b0d0d1950row2_col2\" class=\"data row2 col2\" >1</td> \n",
       "        <td id=\"T_08752792_6a51_11eb_ab74_1c1b0d0d1950row2_col3\" class=\"data row2 col3\" >0.87</td> \n",
       "    </tr>    <tr> \n",
       "        <th id=\"T_08752792_6a51_11eb_ab74_1c1b0d0d1950level0_row3\" class=\"row_heading level0 row3\" >body_mass_g</th> \n",
       "        <td id=\"T_08752792_6a51_11eb_ab74_1c1b0d0d1950row3_col0\" class=\"data row3 col0\" >0.6</td> \n",
       "        <td id=\"T_08752792_6a51_11eb_ab74_1c1b0d0d1950row3_col1\" class=\"data row3 col1\" >-0.47</td> \n",
       "        <td id=\"T_08752792_6a51_11eb_ab74_1c1b0d0d1950row3_col2\" class=\"data row3 col2\" >0.87</td> \n",
       "        <td id=\"T_08752792_6a51_11eb_ab74_1c1b0d0d1950row3_col3\" class=\"data row3 col3\" >1</td> \n",
       "    </tr></tbody> \n",
       "</table> "
      ],
      "text/plain": [
       "<pandas.io.formats.style.Styler at 0x2086d117cc0>"
      ]
     },
     "execution_count": 34,
     "metadata": {},
     "output_type": "execute_result"
    }
   ],
   "source": [
    "penguinCorrelations = penguins.corr()\n",
    "penguinCorrelations.style.background_gradient(cmap='coolwarm').set_precision(2)"
   ]
  },
  {
   "cell_type": "markdown",
   "metadata": {},
   "source": [
    "## weak correlation\n",
    "\n"
   ]
  },
  {
   "cell_type": "code",
   "execution_count": 10,
   "metadata": {},
   "outputs": [
    {
     "data": {
      "text/html": [
       "<div>\n",
       "<style scoped>\n",
       "    .dataframe tbody tr th:only-of-type {\n",
       "        vertical-align: middle;\n",
       "    }\n",
       "\n",
       "    .dataframe tbody tr th {\n",
       "        vertical-align: top;\n",
       "    }\n",
       "\n",
       "    .dataframe thead th {\n",
       "        text-align: right;\n",
       "    }\n",
       "</style>\n",
       "<table border=\"1\" class=\"dataframe\">\n",
       "  <thead>\n",
       "    <tr style=\"text-align: right;\">\n",
       "      <th></th>\n",
       "      <th>bill_length_mm</th>\n",
       "      <th>bill_depth_mm</th>\n",
       "    </tr>\n",
       "  </thead>\n",
       "  <tbody>\n",
       "    <tr>\n",
       "      <th>bill_length_mm</th>\n",
       "      <td>1.000000</td>\n",
       "      <td>-0.235053</td>\n",
       "    </tr>\n",
       "    <tr>\n",
       "      <th>bill_depth_mm</th>\n",
       "      <td>-0.235053</td>\n",
       "      <td>1.000000</td>\n",
       "    </tr>\n",
       "  </tbody>\n",
       "</table>\n",
       "</div>"
      ],
      "text/plain": [
       "                bill_length_mm  bill_depth_mm\n",
       "bill_length_mm        1.000000      -0.235053\n",
       "bill_depth_mm        -0.235053       1.000000"
      ]
     },
     "execution_count": 10,
     "metadata": {},
     "output_type": "execute_result"
    }
   ],
   "source": [
    "penguins[['bill_length_mm', 'bill_depth_mm']].corr()"
   ]
  },
  {
   "cell_type": "code",
   "execution_count": 21,
   "metadata": {},
   "outputs": [
    {
     "data": {
      "text/plain": [
       "<matplotlib.axes._subplots.AxesSubplot at 0x2086bbc9908>"
      ]
     },
     "execution_count": 21,
     "metadata": {},
     "output_type": "execute_result"
    },
    {
     "data": {
      "image/png": "[encoded data removed]",
      "text/plain": [
       "<Figure size 432x288 with 1 Axes>"
      ]
     },
     "metadata": {
      "needs_background": "light"
     },
     "output_type": "display_data"
    }
   ],
   "source": [
    "penguins.plot(kind='scatter', x='bill_length_mm', y='bill_depth_mm')"
   ]
  },
  {
   "cell_type": "code",
   "execution_count": 37,
   "metadata": {},
   "outputs": [],
   "source": [
    "#correlatie tussen bill_length_mm en bill_depth_mm is -0.2, dit is een hele lage correlatie, dit is eigenlijk geen verband.\n",
    "# ik had wel een verband verwacht."
   ]
  },
  {
   "cell_type": "markdown",
   "metadata": {},
   "source": [
    "## strongest positive correlation"
   ]
  },
  {
   "cell_type": "code",
   "execution_count": 12,
   "metadata": {},
   "outputs": [
    {
     "data": {
      "text/html": [
       "<div>\n",
       "<style scoped>\n",
       "    .dataframe tbody tr th:only-of-type {\n",
       "        vertical-align: middle;\n",
       "    }\n",
       "\n",
       "    .dataframe tbody tr th {\n",
       "        vertical-align: top;\n",
       "    }\n",
       "\n",
       "    .dataframe thead th {\n",
       "        text-align: right;\n",
       "    }\n",
       "</style>\n",
       "<table border=\"1\" class=\"dataframe\">\n",
       "  <thead>\n",
       "    <tr style=\"text-align: right;\">\n",
       "      <th></th>\n",
       "      <th>flipper_length_mm</th>\n",
       "      <th>body_mass_g</th>\n",
       "    </tr>\n",
       "  </thead>\n",
       "  <tbody>\n",
       "    <tr>\n",
       "      <th>flipper_length_mm</th>\n",
       "      <td>1.000000</td>\n",
       "      <td>0.871202</td>\n",
       "    </tr>\n",
       "    <tr>\n",
       "      <th>body_mass_g</th>\n",
       "      <td>0.871202</td>\n",
       "      <td>1.000000</td>\n",
       "    </tr>\n",
       "  </tbody>\n",
       "</table>\n",
       "</div>"
      ],
      "text/plain": [
       "                   flipper_length_mm  body_mass_g\n",
       "flipper_length_mm           1.000000     0.871202\n",
       "body_mass_g                 0.871202     1.000000"
      ]
     },
     "execution_count": 12,
     "metadata": {},
     "output_type": "execute_result"
    }
   ],
   "source": [
    "penguins[['flipper_length_mm', 'body_mass_g']].corr()"
   ]
  },
  {
   "cell_type": "code",
   "execution_count": 22,
   "metadata": {},
   "outputs": [
    {
     "data": {
      "text/plain": [
       "<matplotlib.axes._subplots.AxesSubplot at 0x2086bc2d898>"
      ]
     },
     "execution_count": 22,
     "metadata": {},
     "output_type": "execute_result"
    },
    {
     "data": {
      "image/png": "[encoded data removed]",
      "text/plain": [
       "<Figure size 432x288 with 1 Axes>"
      ]
     },
     "metadata": {
      "needs_background": "light"
     },
     "output_type": "display_data"
    }
   ],
   "source": [
    "penguins.plot(kind='scatter', x='flipper_length_mm', y='body_mass_g')"
   ]
  },
  {
   "cell_type": "code",
   "execution_count": 13,
   "metadata": {},
   "outputs": [],
   "source": [
    "#correlatie tussen flipper_length_mm en body_mass_g is 0.8, dit is een hele hoge correlatie, dit kan een verband zijn\n",
    "# hier had ik ook een verband verwacht."
   ]
  },
  {
   "cell_type": "markdown",
   "metadata": {},
   "source": [
    "## the strongest negative correlation"
   ]
  },
  {
   "cell_type": "code",
   "execution_count": 35,
   "metadata": {},
   "outputs": [
    {
     "data": {
      "text/html": [
       "<div>\n",
       "<style scoped>\n",
       "    .dataframe tbody tr th:only-of-type {\n",
       "        vertical-align: middle;\n",
       "    }\n",
       "\n",
       "    .dataframe tbody tr th {\n",
       "        vertical-align: top;\n",
       "    }\n",
       "\n",
       "    .dataframe thead th {\n",
       "        text-align: right;\n",
       "    }\n",
       "</style>\n",
       "<table border=\"1\" class=\"dataframe\">\n",
       "  <thead>\n",
       "    <tr style=\"text-align: right;\">\n",
       "      <th></th>\n",
       "      <th>flipper_length_mm</th>\n",
       "      <th>bill_depth_mm</th>\n",
       "    </tr>\n",
       "  </thead>\n",
       "  <tbody>\n",
       "    <tr>\n",
       "      <th>flipper_length_mm</th>\n",
       "      <td>1.000000</td>\n",
       "      <td>-0.583851</td>\n",
       "    </tr>\n",
       "    <tr>\n",
       "      <th>bill_depth_mm</th>\n",
       "      <td>-0.583851</td>\n",
       "      <td>1.000000</td>\n",
       "    </tr>\n",
       "  </tbody>\n",
       "</table>\n",
       "</div>"
      ],
      "text/plain": [
       "                   flipper_length_mm  bill_depth_mm\n",
       "flipper_length_mm           1.000000      -0.583851\n",
       "bill_depth_mm              -0.583851       1.000000"
      ]
     },
     "execution_count": 35,
     "metadata": {},
     "output_type": "execute_result"
    }
   ],
   "source": [
    "penguins[['flipper_length_mm', 'bill_depth_mm']].corr()"
   ]
  },
  {
   "cell_type": "code",
   "execution_count": 36,
   "metadata": {},
   "outputs": [
    {
     "data": {
      "text/plain": [
       "<matplotlib.axes._subplots.AxesSubplot at 0x2086d2a44a8>"
      ]
     },
     "execution_count": 36,
     "metadata": {},
     "output_type": "execute_result"
    },
    {
     "data": {
      "image/png": "[encoded data removed]",
      "text/plain": [
       "<Figure size 432x288 with 1 Axes>"
      ]
     },
     "metadata": {
      "needs_background": "light"
     },
     "output_type": "display_data"
    }
   ],
   "source": [
    "penguins.plot(kind='scatter', x='flipper_length_mm', y='bill_depth_mm')"
   ]
  },
  {
   "cell_type": "code",
   "execution_count": 38,
   "metadata": {},
   "outputs": [],
   "source": [
    "# hier had ik geen verband verwacht"
   ]
  },
  {
   "cell_type": "code",
   "execution_count": null,
   "metadata": {},
   "outputs": [],
   "source": []
  }
 ],
 "metadata": {
  "kernelspec": {
   "display_name": "Python 3",
   "language": "python",
   "name": "python3"
  },
  "language_info": {
   "codemirror_mode": {
    "name": "ipython",
    "version": 3
   },
   "file_extension": ".py",
   "mimetype": "text/x-python",
   "name": "python",
   "nbconvert_exporter": "python",
   "pygments_lexer": "ipython3",
   "version": "3.8.5"
  }
 },
 "nbformat": 4,
 "nbformat_minor": 2
}
