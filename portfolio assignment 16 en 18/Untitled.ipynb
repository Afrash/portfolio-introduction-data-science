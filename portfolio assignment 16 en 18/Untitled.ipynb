{
 "cells": [
  {
   "cell_type": "code",
   "execution_count": 1,
   "metadata": {},
   "outputs": [],
   "source": [
    "import pandas as pd\n",
    "import numpy as np\n",
    "import seaborn as sns"
   ]
  },
  {
   "cell_type": "code",
   "execution_count": 2,
   "metadata": {},
   "outputs": [],
   "source": [
    "digimon = pd.read_csv(\"../datasets/DigiDB_digimonlist.csv\")"
   ]
  },
  {
   "cell_type": "code",
   "execution_count": 3,
   "metadata": {},
   "outputs": [
    {
     "data": {
      "text/html": [
       "<div>\n",
       "<style scoped>\n",
       "    .dataframe tbody tr th:only-of-type {\n",
       "        vertical-align: middle;\n",
       "    }\n",
       "\n",
       "    .dataframe tbody tr th {\n",
       "        vertical-align: top;\n",
       "    }\n",
       "\n",
       "    .dataframe thead th {\n",
       "        text-align: right;\n",
       "    }\n",
       "</style>\n",
       "<table border=\"1\" class=\"dataframe\">\n",
       "  <thead>\n",
       "    <tr style=\"text-align: right;\">\n",
       "      <th></th>\n",
       "      <th>Number</th>\n",
       "      <th>Digimon</th>\n",
       "      <th>Stage</th>\n",
       "      <th>Type</th>\n",
       "      <th>Attribute</th>\n",
       "      <th>Memory</th>\n",
       "      <th>Equip Slots</th>\n",
       "      <th>Lv 50 HP</th>\n",
       "      <th>Lv50 SP</th>\n",
       "      <th>Lv50 Atk</th>\n",
       "      <th>Lv50 Def</th>\n",
       "      <th>Lv50 Int</th>\n",
       "      <th>Lv50 Spd</th>\n",
       "    </tr>\n",
       "  </thead>\n",
       "  <tbody>\n",
       "    <tr>\n",
       "      <th>0</th>\n",
       "      <td>1</td>\n",
       "      <td>Kuramon</td>\n",
       "      <td>Baby</td>\n",
       "      <td>Free</td>\n",
       "      <td>Neutral</td>\n",
       "      <td>2</td>\n",
       "      <td>0</td>\n",
       "      <td>590</td>\n",
       "      <td>77</td>\n",
       "      <td>79</td>\n",
       "      <td>69</td>\n",
       "      <td>68</td>\n",
       "      <td>95</td>\n",
       "    </tr>\n",
       "    <tr>\n",
       "      <th>1</th>\n",
       "      <td>2</td>\n",
       "      <td>Pabumon</td>\n",
       "      <td>Baby</td>\n",
       "      <td>Free</td>\n",
       "      <td>Neutral</td>\n",
       "      <td>2</td>\n",
       "      <td>0</td>\n",
       "      <td>950</td>\n",
       "      <td>62</td>\n",
       "      <td>76</td>\n",
       "      <td>76</td>\n",
       "      <td>69</td>\n",
       "      <td>68</td>\n",
       "    </tr>\n",
       "    <tr>\n",
       "      <th>2</th>\n",
       "      <td>3</td>\n",
       "      <td>Punimon</td>\n",
       "      <td>Baby</td>\n",
       "      <td>Free</td>\n",
       "      <td>Neutral</td>\n",
       "      <td>2</td>\n",
       "      <td>0</td>\n",
       "      <td>870</td>\n",
       "      <td>50</td>\n",
       "      <td>97</td>\n",
       "      <td>87</td>\n",
       "      <td>50</td>\n",
       "      <td>75</td>\n",
       "    </tr>\n",
       "    <tr>\n",
       "      <th>3</th>\n",
       "      <td>4</td>\n",
       "      <td>Botamon</td>\n",
       "      <td>Baby</td>\n",
       "      <td>Free</td>\n",
       "      <td>Neutral</td>\n",
       "      <td>2</td>\n",
       "      <td>0</td>\n",
       "      <td>690</td>\n",
       "      <td>68</td>\n",
       "      <td>77</td>\n",
       "      <td>95</td>\n",
       "      <td>76</td>\n",
       "      <td>61</td>\n",
       "    </tr>\n",
       "    <tr>\n",
       "      <th>4</th>\n",
       "      <td>5</td>\n",
       "      <td>Poyomon</td>\n",
       "      <td>Baby</td>\n",
       "      <td>Free</td>\n",
       "      <td>Neutral</td>\n",
       "      <td>2</td>\n",
       "      <td>0</td>\n",
       "      <td>540</td>\n",
       "      <td>98</td>\n",
       "      <td>54</td>\n",
       "      <td>59</td>\n",
       "      <td>95</td>\n",
       "      <td>86</td>\n",
       "    </tr>\n",
       "  </tbody>\n",
       "</table>\n",
       "</div>"
      ],
      "text/plain": [
       "   Number  Digimon Stage  Type Attribute  Memory  Equip Slots  Lv 50 HP  \\\n",
       "0       1  Kuramon  Baby  Free   Neutral       2            0       590   \n",
       "1       2  Pabumon  Baby  Free   Neutral       2            0       950   \n",
       "2       3  Punimon  Baby  Free   Neutral       2            0       870   \n",
       "3       4  Botamon  Baby  Free   Neutral       2            0       690   \n",
       "4       5  Poyomon  Baby  Free   Neutral       2            0       540   \n",
       "\n",
       "   Lv50 SP  Lv50 Atk  Lv50 Def  Lv50 Int  Lv50 Spd  \n",
       "0       77        79        69        68        95  \n",
       "1       62        76        76        69        68  \n",
       "2       50        97        87        50        75  \n",
       "3       68        77        95        76        61  \n",
       "4       98        54        59        95        86  "
      ]
     },
     "execution_count": 3,
     "metadata": {},
     "output_type": "execute_result"
    }
   ],
   "source": [
    "digimon.head()"
   ]
  },
  {
   "cell_type": "markdown",
   "metadata": {},
   "source": [
    "## opdracht 16"
   ]
  },
  {
   "cell_type": "markdown",
   "metadata": {},
   "source": [
    "## Multivariate analyses: Models"
   ]
  },
  {
   "cell_type": "code",
   "execution_count": 4,
   "metadata": {},
   "outputs": [],
   "source": [
    "from sklearn.tree import DecisionTreeClassifier"
   ]
  },
  {
   "cell_type": "code",
   "execution_count": 5,
   "metadata": {},
   "outputs": [
    {
     "data": {
      "text/plain": [
       "DecisionTreeClassifier(max_depth=1)"
      ]
     },
     "execution_count": 5,
     "metadata": {},
     "output_type": "execute_result"
    }
   ],
   "source": [
    "\n",
    "features=['Lv 50 HP']\n",
    "\n",
    "dt = DecisionTreeClassifier(max_depth= 1) # increase max_depth to see effect in the plot\n",
    "dt.fit(digimon[features], digimon['Stage'])"
   ]
  },
  {
   "cell_type": "code",
   "execution_count": 6,
   "metadata": {},
   "outputs": [],
   "source": [
    "from sklearn import tree\n",
    "import graphviz\n",
    "\n",
    "def plot_tree_classification(model, features, class_names):\n",
    "    # Generate plot data\n",
    "    dot_data = tree.export_graphviz(model, out_file=None, \n",
    "                          feature_names=features,  \n",
    "                          class_names=class_names,  \n",
    "                          filled=True, rounded=True,  \n",
    "                          special_characters=True)  \n",
    "\n",
    "    # Turn into graph using graphviz\n",
    "    graph = graphviz.Source(dot_data)  \n",
    "\n",
    "    # Write out a pdf\n",
    "    graph.render(\"decision_tree\")\n",
    "\n",
    "    # Display in the notebook\n",
    "    return graph "
   ]
  },
  {
   "cell_type": "code",
   "execution_count": 7,
   "metadata": {},
   "outputs": [
    {
     "data": {
      "image/svg+xml": [
       "<?xml version=\"1.0\" encoding=\"UTF-8\" standalone=\"no\"?>\r\n",
       "<!DOCTYPE svg PUBLIC \"-//W3C//DTD SVG 1.1//EN\"\r\n",
       " \"http://www.w3.org/Graphics/SVG/1.1/DTD/svg11.dtd\">\r\n",
       "<!-- Generated by graphviz version 2.38.0 (20140413.2041)\r\n",
       " -->\r\n",
       "<!-- Title: Tree Pages: 1 -->\r\n",
       "<svg width=\"468pt\" height=\"195pt\"\r\n",
       " viewBox=\"0.00 0.00 467.50 195.00\" xmlns=\"http://www.w3.org/2000/svg\" xmlns:xlink=\"http://www.w3.org/1999/xlink\">\r\n",
       "<g id=\"graph0\" class=\"graph\" transform=\"scale(1 1) rotate(0) translate(4 191)\">\r\n",
       "<title>Tree</title>\r\n",
       "<polygon fill=\"white\" stroke=\"none\" points=\"-4,4 -4,-191 463.5,-191 463.5,4 -4,4\"/>\r\n",
       "<!-- 0 -->\r\n",
       "<g id=\"node1\" class=\"node\"><title>0</title>\r\n",
       "<path fill=\"#eef7fd\" stroke=\"black\" d=\"M340,-187C340,-187 131,-187 131,-187 125,-187 119,-181 119,-175 119,-175 119,-116 119,-116 119,-110 125,-104 131,-104 131,-104 340,-104 340,-104 346,-104 352,-110 352,-116 352,-116 352,-175 352,-175 352,-181 346,-187 340,-187\"/>\r\n",
       "<text text-anchor=\"start\" x=\"176\" y=\"-171.8\" font-family=\"Helvetica,sans-Serif\" font-size=\"14.00\">Lv 50 HP ≤ 1385.0</text>\r\n",
       "<text text-anchor=\"start\" x=\"198\" y=\"-156.8\" font-family=\"Helvetica,sans-Serif\" font-size=\"14.00\">gini = 0.784</text>\r\n",
       "<text text-anchor=\"start\" x=\"188\" y=\"-141.8\" font-family=\"Helvetica,sans-Serif\" font-size=\"14.00\">samples = 249</text>\r\n",
       "<text text-anchor=\"start\" x=\"127\" y=\"-126.8\" font-family=\"Helvetica,sans-Serif\" font-size=\"14.00\">value = [3, 5, 54, 11, 74, 38, 58, 6]</text>\r\n",
       "<text text-anchor=\"start\" x=\"185.5\" y=\"-111.8\" font-family=\"Helvetica,sans-Serif\" font-size=\"14.00\">class = Ultimate</text>\r\n",
       "</g>\r\n",
       "<!-- 1 -->\r\n",
       "<g id=\"node2\" class=\"node\"><title>1</title>\r\n",
       "<path fill=\"#ecfcea\" stroke=\"black\" d=\"M221,-68C221,-68 12,-68 12,-68 6,-68 0,-62 0,-56 0,-56 0,-12 0,-12 0,-6 6,-0 12,-0 12,-0 221,-0 221,-0 227,-0 233,-6 233,-12 233,-12 233,-56 233,-56 233,-62 227,-68 221,-68\"/>\r\n",
       "<text text-anchor=\"start\" x=\"79\" y=\"-52.8\" font-family=\"Helvetica,sans-Serif\" font-size=\"14.00\">gini = 0.789</text>\r\n",
       "<text text-anchor=\"start\" x=\"69\" y=\"-37.8\" font-family=\"Helvetica,sans-Serif\" font-size=\"14.00\">samples = 172</text>\r\n",
       "<text text-anchor=\"start\" x=\"8\" y=\"-22.8\" font-family=\"Helvetica,sans-Serif\" font-size=\"14.00\">value = [3, 5, 52, 11, 28, 38, 34, 1]</text>\r\n",
       "<text text-anchor=\"start\" x=\"69.5\" y=\"-7.8\" font-family=\"Helvetica,sans-Serif\" font-size=\"14.00\">class = Rookie</text>\r\n",
       "</g>\r\n",
       "<!-- 0&#45;&gt;1 -->\r\n",
       "<g id=\"edge1\" class=\"edge\"><title>0&#45;&gt;1</title>\r\n",
       "<path fill=\"none\" stroke=\"black\" d=\"M191.189,-103.726C181.078,-94.423 170.341,-84.5428 160.254,-75.2612\"/>\r\n",
       "<polygon fill=\"black\" stroke=\"black\" points=\"162.417,-72.4953 152.689,-68.2996 157.677,-77.6464 162.417,-72.4953\"/>\r\n",
       "<text text-anchor=\"middle\" x=\"153.727\" y=\"-89.578\" font-family=\"Helvetica,sans-Serif\" font-size=\"14.00\">True</text>\r\n",
       "</g>\r\n",
       "<!-- 2 -->\r\n",
       "<g id=\"node3\" class=\"node\"><title>2</title>\r\n",
       "<path fill=\"#add6f4\" stroke=\"black\" d=\"M447.5,-68C447.5,-68 263.5,-68 263.5,-68 257.5,-68 251.5,-62 251.5,-56 251.5,-56 251.5,-12 251.5,-12 251.5,-6 257.5,-0 263.5,-0 263.5,-0 447.5,-0 447.5,-0 453.5,-0 459.5,-6 459.5,-12 459.5,-12 459.5,-56 459.5,-56 459.5,-62 453.5,-68 447.5,-68\"/>\r\n",
       "<text text-anchor=\"start\" x=\"318\" y=\"-52.8\" font-family=\"Helvetica,sans-Serif\" font-size=\"14.00\">gini = 0.541</text>\r\n",
       "<text text-anchor=\"start\" x=\"312\" y=\"-37.8\" font-family=\"Helvetica,sans-Serif\" font-size=\"14.00\">samples = 77</text>\r\n",
       "<text text-anchor=\"start\" x=\"259.5\" y=\"-22.8\" font-family=\"Helvetica,sans-Serif\" font-size=\"14.00\">value = [0, 0, 2, 0, 46, 0, 24, 5]</text>\r\n",
       "<text text-anchor=\"start\" x=\"305.5\" y=\"-7.8\" font-family=\"Helvetica,sans-Serif\" font-size=\"14.00\">class = Ultimate</text>\r\n",
       "</g>\r\n",
       "<!-- 0&#45;&gt;2 -->\r\n",
       "<g id=\"edge2\" class=\"edge\"><title>0&#45;&gt;2</title>\r\n",
       "<path fill=\"none\" stroke=\"black\" d=\"M280.184,-103.726C290.379,-94.423 301.207,-84.5428 311.378,-75.2612\"/>\r\n",
       "<polygon fill=\"black\" stroke=\"black\" points=\"313.98,-77.6255 319.007,-68.2996 309.261,-72.4547 313.98,-77.6255\"/>\r\n",
       "<text text-anchor=\"middle\" x=\"317.865\" y=\"-89.5735\" font-family=\"Helvetica,sans-Serif\" font-size=\"14.00\">False</text>\r\n",
       "</g>\r\n",
       "</g>\r\n",
       "</svg>\r\n"
      ],
      "text/plain": [
       "<graphviz.files.Source at 0x21d96418e80>"
      ]
     },
     "execution_count": 7,
     "metadata": {},
     "output_type": "execute_result"
    }
   ],
   "source": [
    "plot_tree_classification(dt, features, digimon.Stage.unique())"
   ]
  },
  {
   "cell_type": "markdown",
   "metadata": {},
   "source": [
    "als lvl 50 hp kleiner is dan 1385 dan gaat hij naar true en dan is de class die hij krijgt Rookie. Als de lvl 50 hp groter is dan 1385, dan krijgt de class waarde de naam Ultimate."
   ]
  },
  {
   "cell_type": "markdown",
   "metadata": {},
   "source": [
    "## evaluate the model"
   ]
  },
  {
   "cell_type": "code",
   "execution_count": 8,
   "metadata": {},
   "outputs": [],
   "source": [
    "predictions = dt.predict(digimon[features])"
   ]
  },
  {
   "cell_type": "code",
   "execution_count": 9,
   "metadata": {},
   "outputs": [
    {
     "data": {
      "text/plain": [
       "array(['Champion', 'Champion', 'Champion', 'Champion', 'Champion',\n",
       "       'Champion', 'Champion', 'Champion', 'Champion', 'Champion',\n",
       "       'Champion', 'Champion', 'Champion', 'Champion', 'Champion',\n",
       "       'Champion', 'Champion', 'Champion', 'Champion', 'Champion',\n",
       "       'Champion', 'Champion', 'Champion', 'Champion', 'Champion',\n",
       "       'Champion', 'Champion', 'Champion', 'Champion', 'Champion',\n",
       "       'Champion', 'Champion', 'Champion', 'Champion', 'Champion',\n",
       "       'Champion', 'Champion', 'Champion', 'Champion', 'Champion',\n",
       "       'Champion', 'Champion', 'Champion', 'Champion', 'Champion',\n",
       "       'Champion', 'Champion', 'Champion', 'Champion', 'Champion',\n",
       "       'Champion', 'Champion', 'Champion', 'Champion', 'Champion',\n",
       "       'Champion', 'Champion', 'Champion', 'Champion', 'Mega', 'Champion',\n",
       "       'Champion', 'Champion', 'Champion', 'Champion', 'Champion',\n",
       "       'Champion', 'Champion', 'Champion', 'Champion', 'Champion',\n",
       "       'Champion', 'Champion', 'Champion', 'Champion', 'Champion',\n",
       "       'Champion', 'Champion', 'Champion', 'Champion', 'Champion',\n",
       "       'Champion', 'Champion', 'Champion', 'Mega', 'Champion', 'Champion',\n",
       "       'Champion', 'Champion', 'Champion', 'Champion', 'Champion',\n",
       "       'Champion', 'Champion', 'Champion', 'Champion', 'Champion',\n",
       "       'Champion', 'Champion', 'Champion', 'Champion', 'Champion',\n",
       "       'Champion', 'Champion', 'Champion', 'Champion', 'Champion',\n",
       "       'Champion', 'Mega', 'Champion', 'Champion', 'Champion', 'Champion',\n",
       "       'Champion', 'Mega', 'Champion', 'Champion', 'Champion', 'Champion',\n",
       "       'Champion', 'Champion', 'Mega', 'Mega', 'Mega', 'Mega', 'Champion',\n",
       "       'Champion', 'Champion', 'Mega', 'Champion', 'Champion', 'Champion',\n",
       "       'Mega', 'Mega', 'Mega', 'Champion', 'Champion', 'Champion',\n",
       "       'Champion', 'Mega', 'Champion', 'Mega', 'Champion', 'Champion',\n",
       "       'Mega', 'Champion', 'Mega', 'Mega', 'Champion', 'Mega', 'Mega',\n",
       "       'Mega', 'Mega', 'Champion', 'Champion', 'Mega', 'Champion', 'Mega',\n",
       "       'Champion', 'Champion', 'Champion', 'Mega', 'Champion', 'Mega',\n",
       "       'Mega', 'Champion', 'Mega', 'Mega', 'Champion', 'Mega', 'Mega',\n",
       "       'Mega', 'Mega', 'Mega', 'Mega', 'Champion', 'Mega', 'Champion',\n",
       "       'Mega', 'Champion', 'Mega', 'Champion', 'Mega', 'Champion', 'Mega',\n",
       "       'Champion', 'Mega', 'Mega', 'Mega', 'Champion', 'Mega', 'Mega',\n",
       "       'Mega', 'Mega', 'Champion', 'Mega', 'Mega', 'Mega', 'Mega',\n",
       "       'Champion', 'Champion', 'Champion', 'Champion', 'Mega', 'Champion',\n",
       "       'Champion', 'Mega', 'Mega', 'Mega', 'Mega', 'Mega', 'Mega', 'Mega',\n",
       "       'Mega', 'Mega', 'Mega', 'Champion', 'Champion', 'Mega', 'Mega',\n",
       "       'Champion', 'Mega', 'Champion', 'Champion', 'Mega', 'Mega', 'Mega',\n",
       "       'Champion', 'Champion', 'Champion', 'Champion', 'Champion', 'Mega',\n",
       "       'Mega', 'Mega', 'Mega', 'Mega', 'Champion', 'Champion', 'Champion',\n",
       "       'Champion', 'Mega', 'Mega', 'Champion', 'Champion', 'Mega', 'Mega',\n",
       "       'Champion', 'Mega'], dtype=object)"
      ]
     },
     "execution_count": 9,
     "metadata": {},
     "output_type": "execute_result"
    }
   ],
   "source": [
    "predictions"
   ]
  },
  {
   "cell_type": "code",
   "execution_count": 10,
   "metadata": {},
   "outputs": [],
   "source": [
    "def calculate_accuracy(predictions, actuals):\n",
    "    if(len(predictions) != len(actuals)):\n",
    "        raise Exception(\"The amount of predictions did not equal the amount of actuals\")\n",
    "    \n",
    "    return (predictions == actuals).sum() / len(actuals)"
   ]
  },
  {
   "cell_type": "code",
   "execution_count": 11,
   "metadata": {},
   "outputs": [
    {
     "data": {
      "text/plain": [
       "0.39357429718875503"
      ]
     },
     "execution_count": 11,
     "metadata": {},
     "output_type": "execute_result"
    }
   ],
   "source": [
    "calculate_accuracy(predictions, digimon.Stage)"
   ]
  },
  {
   "cell_type": "markdown",
   "metadata": {},
   "source": [
    "39% correct"
   ]
  },
  {
   "cell_type": "markdown",
   "metadata": {},
   "source": [
    "## test/train split"
   ]
  },
  {
   "cell_type": "code",
   "execution_count": 12,
   "metadata": {},
   "outputs": [],
   "source": [
    "from sklearn.model_selection import train_test_split"
   ]
  },
  {
   "cell_type": "code",
   "execution_count": 13,
   "metadata": {},
   "outputs": [
    {
     "name": "stdout",
     "output_type": "stream",
     "text": [
      "(174, 13) (75, 13)\n"
     ]
    }
   ],
   "source": [
    "digimon_train, digimon_test = train_test_split(digimon, test_size=0.3, stratify=digimon['Stage'], random_state=42)\n",
    "print(digimon_train.shape, digimon_test.shape)"
   ]
  },
  {
   "cell_type": "code",
   "execution_count": 14,
   "metadata": {},
   "outputs": [
    {
     "data": {
      "text/html": [
       "<div>\n",
       "<style scoped>\n",
       "    .dataframe tbody tr th:only-of-type {\n",
       "        vertical-align: middle;\n",
       "    }\n",
       "\n",
       "    .dataframe tbody tr th {\n",
       "        vertical-align: top;\n",
       "    }\n",
       "\n",
       "    .dataframe thead th {\n",
       "        text-align: right;\n",
       "    }\n",
       "</style>\n",
       "<table border=\"1\" class=\"dataframe\">\n",
       "  <thead>\n",
       "    <tr style=\"text-align: right;\">\n",
       "      <th></th>\n",
       "      <th>Number</th>\n",
       "      <th>Digimon</th>\n",
       "      <th>Stage</th>\n",
       "      <th>Type</th>\n",
       "      <th>Attribute</th>\n",
       "      <th>Memory</th>\n",
       "      <th>Equip Slots</th>\n",
       "      <th>Lv 50 HP</th>\n",
       "      <th>Lv50 SP</th>\n",
       "      <th>Lv50 Atk</th>\n",
       "      <th>Lv50 Def</th>\n",
       "      <th>Lv50 Int</th>\n",
       "      <th>Lv50 Spd</th>\n",
       "    </tr>\n",
       "  </thead>\n",
       "  <tbody>\n",
       "    <tr>\n",
       "      <th>86</th>\n",
       "      <td>87</td>\n",
       "      <td>Stingmon</td>\n",
       "      <td>Champion</td>\n",
       "      <td>Free</td>\n",
       "      <td>Plant</td>\n",
       "      <td>8</td>\n",
       "      <td>1</td>\n",
       "      <td>1130</td>\n",
       "      <td>84</td>\n",
       "      <td>143</td>\n",
       "      <td>74</td>\n",
       "      <td>74</td>\n",
       "      <td>133</td>\n",
       "    </tr>\n",
       "    <tr>\n",
       "      <th>5</th>\n",
       "      <td>6</td>\n",
       "      <td>Koromon</td>\n",
       "      <td>In-Training</td>\n",
       "      <td>Free</td>\n",
       "      <td>Fire</td>\n",
       "      <td>3</td>\n",
       "      <td>0</td>\n",
       "      <td>940</td>\n",
       "      <td>52</td>\n",
       "      <td>109</td>\n",
       "      <td>93</td>\n",
       "      <td>52</td>\n",
       "      <td>76</td>\n",
       "    </tr>\n",
       "    <tr>\n",
       "      <th>185</th>\n",
       "      <td>186</td>\n",
       "      <td>Sakuyamon</td>\n",
       "      <td>Mega</td>\n",
       "      <td>Data</td>\n",
       "      <td>Light</td>\n",
       "      <td>18</td>\n",
       "      <td>3</td>\n",
       "      <td>990</td>\n",
       "      <td>178</td>\n",
       "      <td>94</td>\n",
       "      <td>114</td>\n",
       "      <td>188</td>\n",
       "      <td>173</td>\n",
       "    </tr>\n",
       "    <tr>\n",
       "      <th>13</th>\n",
       "      <td>14</td>\n",
       "      <td>Bukamon</td>\n",
       "      <td>In-Training</td>\n",
       "      <td>Free</td>\n",
       "      <td>Water</td>\n",
       "      <td>3</td>\n",
       "      <td>0</td>\n",
       "      <td>830</td>\n",
       "      <td>93</td>\n",
       "      <td>54</td>\n",
       "      <td>74</td>\n",
       "      <td>103</td>\n",
       "      <td>69</td>\n",
       "    </tr>\n",
       "    <tr>\n",
       "      <th>0</th>\n",
       "      <td>1</td>\n",
       "      <td>Kuramon</td>\n",
       "      <td>Baby</td>\n",
       "      <td>Free</td>\n",
       "      <td>Neutral</td>\n",
       "      <td>2</td>\n",
       "      <td>0</td>\n",
       "      <td>590</td>\n",
       "      <td>77</td>\n",
       "      <td>79</td>\n",
       "      <td>69</td>\n",
       "      <td>68</td>\n",
       "      <td>95</td>\n",
       "    </tr>\n",
       "  </tbody>\n",
       "</table>\n",
       "</div>"
      ],
      "text/plain": [
       "     Number    Digimon        Stage  Type Attribute  Memory  Equip Slots  \\\n",
       "86       87   Stingmon     Champion  Free     Plant       8            1   \n",
       "5         6    Koromon  In-Training  Free      Fire       3            0   \n",
       "185     186  Sakuyamon         Mega  Data     Light      18            3   \n",
       "13       14    Bukamon  In-Training  Free     Water       3            0   \n",
       "0         1    Kuramon         Baby  Free   Neutral       2            0   \n",
       "\n",
       "     Lv 50 HP  Lv50 SP  Lv50 Atk  Lv50 Def  Lv50 Int  Lv50 Spd  \n",
       "86       1130       84       143        74        74       133  \n",
       "5         940       52       109        93        52        76  \n",
       "185       990      178        94       114       188       173  \n",
       "13        830       93        54        74       103        69  \n",
       "0         590       77        79        69        68        95  "
      ]
     },
     "execution_count": 14,
     "metadata": {},
     "output_type": "execute_result"
    }
   ],
   "source": [
    "digimon_train.head()"
   ]
  },
  {
   "cell_type": "code",
   "execution_count": 15,
   "metadata": {},
   "outputs": [
    {
     "data": {
      "text/plain": [
       "Mega           74\n",
       "Ultimate       58\n",
       "Champion       54\n",
       "Rookie         38\n",
       "In-Training    11\n",
       "Ultra           6\n",
       "Baby            5\n",
       "Armor           3\n",
       "Name: Stage, dtype: int64"
      ]
     },
     "execution_count": 15,
     "metadata": {},
     "output_type": "execute_result"
    }
   ],
   "source": [
    "digimon.Stage.value_counts()"
   ]
  },
  {
   "cell_type": "code",
   "execution_count": 16,
   "metadata": {},
   "outputs": [
    {
     "data": {
      "text/plain": [
       "Mega           52\n",
       "Ultimate       40\n",
       "Champion       38\n",
       "Rookie         27\n",
       "In-Training     8\n",
       "Ultra           4\n",
       "Baby            3\n",
       "Armor           2\n",
       "Name: Stage, dtype: int64"
      ]
     },
     "execution_count": 16,
     "metadata": {},
     "output_type": "execute_result"
    }
   ],
   "source": [
    "digimon_train.Stage.value_counts()"
   ]
  },
  {
   "cell_type": "code",
   "execution_count": 17,
   "metadata": {},
   "outputs": [
    {
     "data": {
      "text/plain": [
       "Mega           22\n",
       "Ultimate       18\n",
       "Champion       16\n",
       "Rookie         11\n",
       "In-Training     3\n",
       "Ultra           2\n",
       "Baby            2\n",
       "Armor           1\n",
       "Name: Stage, dtype: int64"
      ]
     },
     "execution_count": 17,
     "metadata": {},
     "output_type": "execute_result"
    }
   ],
   "source": [
    "digimon_test.Stage.value_counts()"
   ]
  },
  {
   "cell_type": "code",
   "execution_count": 18,
   "metadata": {},
   "outputs": [
    {
     "data": {
      "text/plain": [
       "DecisionTreeClassifier(max_depth=1)"
      ]
     },
     "execution_count": 18,
     "metadata": {},
     "output_type": "execute_result"
    }
   ],
   "source": [
    "features= ['Lv 50 HP']\n",
    "dt_classification = DecisionTreeClassifier(max_depth = 1) # Increase max_depth to see effect in the plot\n",
    "dt_classification.fit(digimon_train[features], digimon_train['Stage'])"
   ]
  },
  {
   "cell_type": "code",
   "execution_count": 19,
   "metadata": {},
   "outputs": [
    {
     "name": "stdout",
     "output_type": "stream",
     "text": [
      "Accuracy on training set 0.42528735632183906\n",
      "Accuracy on test set 0.32\n"
     ]
    }
   ],
   "source": [
    "predictionsOnTrainset = dt_classification.predict(digimon_train[features])\n",
    "predictionsOnTestset = dt_classification.predict(digimon_test[features])\n",
    "\n",
    "accuracyTrain = calculate_accuracy(predictionsOnTrainset, digimon_train.Stage)\n",
    "accuracyTest = calculate_accuracy(predictionsOnTestset, digimon_test.Stage)\n",
    "\n",
    "print(\"Accuracy on training set \" + str(accuracyTrain))\n",
    "print(\"Accuracy on test set \" + str(accuracyTest))"
   ]
  },
  {
   "cell_type": "markdown",
   "metadata": {},
   "source": [
    "beide accurancies zijn verschillend, ik verwachtte inderdaad dat dit verschillend zou zijn en niet hetzelfde. "
   ]
  },
  {
   "cell_type": "markdown",
   "metadata": {},
   "source": [
    "## OVERFITTING"
   ]
  },
  {
   "cell_type": "code",
   "execution_count": 20,
   "metadata": {},
   "outputs": [
    {
     "data": {
      "text/plain": [
       "DecisionTreeClassifier(max_depth=10)"
      ]
     },
     "execution_count": 20,
     "metadata": {},
     "output_type": "execute_result"
    }
   ],
   "source": [
    "features= ['Lv 50 HP']\n",
    "dt_classification = DecisionTreeClassifier(max_depth = 10) # Increase max_depth to see effect in the plot\n",
    "dt_classification.fit(digimon_train[features], digimon_train['Stage'])"
   ]
  },
  {
   "cell_type": "code",
   "execution_count": 21,
   "metadata": {},
   "outputs": [
    {
     "name": "stdout",
     "output_type": "stream",
     "text": [
      "Accuracy on training set 0.6609195402298851\n",
      "Accuracy on test set 0.4\n"
     ]
    }
   ],
   "source": [
    "predictionsOnTrainset = dt_classification.predict(digimon_train[features])\n",
    "predictionsOnTestset = dt_classification.predict(digimon_test[features])\n",
    "\n",
    "accuracyTrain = calculate_accuracy(predictionsOnTrainset, digimon_train.Stage)\n",
    "accuracyTest = calculate_accuracy(predictionsOnTestset, digimon_test.Stage)\n",
    "\n",
    "print(\"Accuracy on training set \" + str(accuracyTrain))\n",
    "print(\"Accuracy on test set \" + str(accuracyTest))"
   ]
  },
  {
   "cell_type": "markdown",
   "metadata": {},
   "source": [
    "## accuracy veranderd als de max_depth word aangepast, training set word hoger en test set wordt lager."
   ]
  },
  {
   "cell_type": "markdown",
   "metadata": {},
   "source": [
    "## opdracht 18"
   ]
  },
  {
   "cell_type": "code",
   "execution_count": 22,
   "metadata": {},
   "outputs": [],
   "source": [
    "from sklearn.tree import DecisionTreeRegressor"
   ]
  },
  {
   "cell_type": "code",
   "execution_count": 23,
   "metadata": {},
   "outputs": [],
   "source": [
    "from sklearn.model_selection import train_test_split"
   ]
  },
  {
   "cell_type": "code",
   "execution_count": 24,
   "metadata": {},
   "outputs": [
    {
     "data": {
      "text/plain": [
       "DecisionTreeRegressor(max_depth=1)"
      ]
     },
     "execution_count": 24,
     "metadata": {},
     "output_type": "execute_result"
    }
   ],
   "source": [
    "features= ['Lv 50 HP']\n",
    "dt_regression = DecisionTreeRegressor(max_depth = 1) # Increase max_depth to see effect in the plot\n",
    "dt_regression.fit(digimon_train[features], digimon_train['Lv50 SP'])"
   ]
  },
  {
   "cell_type": "code",
   "execution_count": 25,
   "metadata": {},
   "outputs": [],
   "source": [
    "from sklearn import tree\n",
    "import graphviz\n",
    "\n",
    "def plot_tree_regression(model, features):\n",
    "    # Generate plot data\n",
    "    dot_data = tree.export_graphviz(model, out_file=None, \n",
    "                          feature_names=features,  \n",
    "                          filled=True, rounded=True,  \n",
    "                          special_characters=True)  \n",
    "\n",
    "    # Turn into graph using graphviz\n",
    "    graph = graphviz.Source(dot_data)  \n",
    "\n",
    "    # Write out a pdf\n",
    "    graph.render(\"decision_tree\")\n",
    "\n",
    "    # Display in the notebook\n",
    "    return graph "
   ]
  },
  {
   "cell_type": "code",
   "execution_count": null,
   "metadata": {},
   "outputs": [],
   "source": []
  },
  {
   "cell_type": "code",
   "execution_count": 26,
   "metadata": {},
   "outputs": [
    {
     "data": {
      "image/svg+xml": [
       "<?xml version=\"1.0\" encoding=\"UTF-8\" standalone=\"no\"?>\r\n",
       "<!DOCTYPE svg PUBLIC \"-//W3C//DTD SVG 1.1//EN\"\r\n",
       " \"http://www.w3.org/Graphics/SVG/1.1/DTD/svg11.dtd\">\r\n",
       "<!-- Generated by graphviz version 2.38.0 (20140413.2041)\r\n",
       " -->\r\n",
       "<!-- Title: Tree Pages: 1 -->\r\n",
       "<svg width=\"268pt\" height=\"165pt\"\r\n",
       " viewBox=\"0.00 0.00 267.50 165.00\" xmlns=\"http://www.w3.org/2000/svg\" xmlns:xlink=\"http://www.w3.org/1999/xlink\">\r\n",
       "<g id=\"graph0\" class=\"graph\" transform=\"scale(1 1) rotate(0) translate(4 161)\">\r\n",
       "<title>Tree</title>\r\n",
       "<polygon fill=\"white\" stroke=\"none\" points=\"-4,4 -4,-161 263.5,-161 263.5,4 -4,4\"/>\r\n",
       "<!-- 0 -->\r\n",
       "<g id=\"node1\" class=\"node\"><title>0</title>\r\n",
       "<path fill=\"#f3c3a1\" stroke=\"black\" d=\"M185.5,-157C185.5,-157 74.5,-157 74.5,-157 68.5,-157 62.5,-151 62.5,-145 62.5,-145 62.5,-101 62.5,-101 62.5,-95 68.5,-89 74.5,-89 74.5,-89 185.5,-89 185.5,-89 191.5,-89 197.5,-95 197.5,-101 197.5,-101 197.5,-145 197.5,-145 197.5,-151 191.5,-157 185.5,-157\"/>\r\n",
       "<text text-anchor=\"start\" x=\"70.5\" y=\"-141.8\" font-family=\"Helvetica,sans-Serif\" font-size=\"14.00\">Lv 50 HP ≤ 1185.0</text>\r\n",
       "<text text-anchor=\"start\" x=\"77\" y=\"-126.8\" font-family=\"Helvetica,sans-Serif\" font-size=\"14.00\">mse = 1029.284</text>\r\n",
       "<text text-anchor=\"start\" x=\"82.5\" y=\"-111.8\" font-family=\"Helvetica,sans-Serif\" font-size=\"14.00\">samples = 174</text>\r\n",
       "<text text-anchor=\"start\" x=\"78.5\" y=\"-96.8\" font-family=\"Helvetica,sans-Serif\" font-size=\"14.00\">value = 111.805</text>\r\n",
       "</g>\r\n",
       "<!-- 1 -->\r\n",
       "<g id=\"node2\" class=\"node\"><title>1</title>\r\n",
       "<path fill=\"#ffffff\" stroke=\"black\" d=\"M110,-53C110,-53 12,-53 12,-53 6,-53 7.10543e-015,-47 7.10543e-015,-41 7.10543e-015,-41 7.10543e-015,-12 7.10543e-015,-12 7.10543e-015,-6 6,-0 12,-0 12,-0 110,-0 110,-0 116,-0 122,-6 122,-12 122,-12 122,-41 122,-41 122,-47 116,-53 110,-53\"/>\r\n",
       "<text text-anchor=\"start\" x=\"8\" y=\"-37.8\" font-family=\"Helvetica,sans-Serif\" font-size=\"14.00\">mse = 1077.354</text>\r\n",
       "<text text-anchor=\"start\" x=\"17.5\" y=\"-22.8\" font-family=\"Helvetica,sans-Serif\" font-size=\"14.00\">samples = 91</text>\r\n",
       "<text text-anchor=\"start\" x=\"9.5\" y=\"-7.8\" font-family=\"Helvetica,sans-Serif\" font-size=\"14.00\">value = 105.824</text>\r\n",
       "</g>\r\n",
       "<!-- 0&#45;&gt;1 -->\r\n",
       "<g id=\"edge1\" class=\"edge\"><title>0&#45;&gt;1</title>\r\n",
       "<path fill=\"none\" stroke=\"black\" d=\"M105.867,-88.9485C99.388,-80.0749 92.3712,-70.4648 85.8537,-61.5388\"/>\r\n",
       "<polygon fill=\"black\" stroke=\"black\" points=\"88.5156,-59.249 79.7919,-53.2367 82.8622,-63.3769 88.5156,-59.249\"/>\r\n",
       "<text text-anchor=\"middle\" x=\"75.9394\" y=\"-74.2381\" font-family=\"Helvetica,sans-Serif\" font-size=\"14.00\">True</text>\r\n",
       "</g>\r\n",
       "<!-- 2 -->\r\n",
       "<g id=\"node3\" class=\"node\"><title>2</title>\r\n",
       "<path fill=\"#e58139\" stroke=\"black\" d=\"M247.5,-53C247.5,-53 152.5,-53 152.5,-53 146.5,-53 140.5,-47 140.5,-41 140.5,-41 140.5,-12 140.5,-12 140.5,-6 146.5,-0 152.5,-0 152.5,-0 247.5,-0 247.5,-0 253.5,-0 259.5,-6 259.5,-12 259.5,-12 259.5,-41 259.5,-41 259.5,-47 253.5,-53 247.5,-53\"/>\r\n",
       "<text text-anchor=\"start\" x=\"151.5\" y=\"-37.8\" font-family=\"Helvetica,sans-Serif\" font-size=\"14.00\">mse = 894.375</text>\r\n",
       "<text text-anchor=\"start\" x=\"156.5\" y=\"-22.8\" font-family=\"Helvetica,sans-Serif\" font-size=\"14.00\">samples = 83</text>\r\n",
       "<text text-anchor=\"start\" x=\"148.5\" y=\"-7.8\" font-family=\"Helvetica,sans-Serif\" font-size=\"14.00\">value = 118.361</text>\r\n",
       "</g>\r\n",
       "<!-- 0&#45;&gt;2 -->\r\n",
       "<g id=\"edge2\" class=\"edge\"><title>0&#45;&gt;2</title>\r\n",
       "<path fill=\"none\" stroke=\"black\" d=\"M154.483,-88.9485C161.056,-80.0749 168.174,-70.4648 174.786,-61.5388\"/>\r\n",
       "<polygon fill=\"black\" stroke=\"black\" points=\"177.796,-63.3556 180.936,-53.2367 172.171,-59.189 177.796,-63.3556\"/>\r\n",
       "<text text-anchor=\"middle\" x=\"184.619\" y=\"-74.264\" font-family=\"Helvetica,sans-Serif\" font-size=\"14.00\">False</text>\r\n",
       "</g>\r\n",
       "</g>\r\n",
       "</svg>\r\n"
      ],
      "text/plain": [
       "<graphviz.files.Source at 0x21d964181c0>"
      ]
     },
     "execution_count": 26,
     "metadata": {},
     "output_type": "execute_result"
    }
   ],
   "source": [
    "plot_tree_regression(dt_regression, features)"
   ]
  },
  {
   "cell_type": "markdown",
   "metadata": {},
   "source": [
    "# als de lv 50 HP kleiner is dan 1185.0 dan gaan we naar true en als dit niet zo is gaan we naar false. We verwachten als het kleiner is dan 1185.0 dat de Lv 50 HP 105.824 is. "
   ]
  },
  {
   "cell_type": "markdown",
   "metadata": {},
   "source": [
    "# als de lv 50 HP groter is dan 1185.0 dan gaan we naar false en als dit niet zo is gaan we naar true. We verwachten als het groter is dan 1185.0 dat de Lv 50 HP 118.361 is. "
   ]
  },
  {
   "cell_type": "markdown",
   "metadata": {},
   "source": [
    "## evalueren model"
   ]
  },
  {
   "cell_type": "code",
   "execution_count": 27,
   "metadata": {},
   "outputs": [],
   "source": [
    "def calculate_rmse(predictions, actuals):\n",
    "    if(len(predictions) != len(actuals)):\n",
    "        raise Exception(\"The amount of predictions did not equal the amount of actuals\")\n",
    "    \n",
    "    return (((predictions - actuals) ** 2).sum() / len(actuals)) ** (1/2)\n",
    "\n",
    "## The same function but using a for-loop instead of a vectorized operation. \n",
    "# def calculate_rmse(predictions, actuals):\n",
    "#    if(len(predictions) != len(actuals)):\n",
    "#        raise Exception(\"The amount of predictions did not equal the amount of actuals\")\n",
    "#    \n",
    "#    diffSquared = 0\n",
    "#    \n",
    "#    for prediction_i, actual_i in zip(predictions, actuals):\n",
    "#        diffSquared += (prediction_i - actual_i)**2\n",
    "#        \n",
    "#    return (diffSquared/len(actuals))**(1/2)"
   ]
  },
  {
   "cell_type": "code",
   "execution_count": 28,
   "metadata": {},
   "outputs": [
    {
     "name": "stdout",
     "output_type": "stream",
     "text": [
      "RMSE on training set 31.46539272452482\n",
      "RMSE on test set 33.55282399731191\n"
     ]
    }
   ],
   "source": [
    "predictionsOnTrainset = dt_regression.predict(digimon_train[features])\n",
    "predictionsOnTestset = dt_regression.predict(digimon_test[features])\n",
    "\n",
    "rmseTrain = calculate_rmse(predictionsOnTrainset, digimon_train['Lv50 SP'])\n",
    "rmseTest = calculate_rmse(predictionsOnTestset, digimon_test['Lv50 SP'])\n",
    "\n",
    "print(\"RMSE on training set \" + str(rmseTrain))\n",
    "print(\"RMSE on test set \" + str(rmseTest))"
   ]
  },
  {
   "cell_type": "markdown",
   "metadata": {},
   "source": [
    "rmse = root mean square error, wat is de gemiddelde fout die we gaan zien."
   ]
  },
  {
   "cell_type": "markdown",
   "metadata": {},
   "source": [
    "## Ik verwachte inderdaad dat dit anders zou zijn"
   ]
  },
  {
   "cell_type": "code",
   "execution_count": null,
   "metadata": {},
   "outputs": [],
   "source": []
  }
 ],
 "metadata": {
  "kernelspec": {
   "display_name": "Python 3",
   "language": "python",
   "name": "python3"
  },
  "language_info": {
   "codemirror_mode": {
    "name": "ipython",
    "version": 3
   },
   "file_extension": ".py",
   "mimetype": "text/x-python",
   "name": "python",
   "nbconvert_exporter": "python",
   "pygments_lexer": "ipython3",
   "version": "3.8.5"
  }
 },
 "nbformat": 4,
 "nbformat_minor": 2
}
