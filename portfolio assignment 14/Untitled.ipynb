{
 "cells": [
  {
   "cell_type": "code",
   "execution_count": 1,
   "metadata": {},
   "outputs": [],
   "source": [
    "import pandas as pd\n",
    "import numpy as np\n",
    "import seaborn as sns"
   ]
  },
  {
   "cell_type": "code",
   "execution_count": 2,
   "metadata": {},
   "outputs": [],
   "source": [
    "digimon = pd.read_csv(\"../datasets/DigiDB_digimonlist.csv\")"
   ]
  },
  {
   "cell_type": "code",
   "execution_count": 3,
   "metadata": {},
   "outputs": [
    {
     "data": {
      "text/html": [
       "<div>\n",
       "<style scoped>\n",
       "    .dataframe tbody tr th:only-of-type {\n",
       "        vertical-align: middle;\n",
       "    }\n",
       "\n",
       "    .dataframe tbody tr th {\n",
       "        vertical-align: top;\n",
       "    }\n",
       "\n",
       "    .dataframe thead th {\n",
       "        text-align: right;\n",
       "    }\n",
       "</style>\n",
       "<table border=\"1\" class=\"dataframe\">\n",
       "  <thead>\n",
       "    <tr style=\"text-align: right;\">\n",
       "      <th></th>\n",
       "      <th>Number</th>\n",
       "      <th>Digimon</th>\n",
       "      <th>Stage</th>\n",
       "      <th>Type</th>\n",
       "      <th>Attribute</th>\n",
       "      <th>Memory</th>\n",
       "      <th>Equip Slots</th>\n",
       "      <th>Lv 50 HP</th>\n",
       "      <th>Lv50 SP</th>\n",
       "      <th>Lv50 Atk</th>\n",
       "      <th>Lv50 Def</th>\n",
       "      <th>Lv50 Int</th>\n",
       "      <th>Lv50 Spd</th>\n",
       "    </tr>\n",
       "  </thead>\n",
       "  <tbody>\n",
       "    <tr>\n",
       "      <th>0</th>\n",
       "      <td>1</td>\n",
       "      <td>Kuramon</td>\n",
       "      <td>Baby</td>\n",
       "      <td>Free</td>\n",
       "      <td>Neutral</td>\n",
       "      <td>2</td>\n",
       "      <td>0</td>\n",
       "      <td>590</td>\n",
       "      <td>77</td>\n",
       "      <td>79</td>\n",
       "      <td>69</td>\n",
       "      <td>68</td>\n",
       "      <td>95</td>\n",
       "    </tr>\n",
       "    <tr>\n",
       "      <th>1</th>\n",
       "      <td>2</td>\n",
       "      <td>Pabumon</td>\n",
       "      <td>Baby</td>\n",
       "      <td>Free</td>\n",
       "      <td>Neutral</td>\n",
       "      <td>2</td>\n",
       "      <td>0</td>\n",
       "      <td>950</td>\n",
       "      <td>62</td>\n",
       "      <td>76</td>\n",
       "      <td>76</td>\n",
       "      <td>69</td>\n",
       "      <td>68</td>\n",
       "    </tr>\n",
       "    <tr>\n",
       "      <th>2</th>\n",
       "      <td>3</td>\n",
       "      <td>Punimon</td>\n",
       "      <td>Baby</td>\n",
       "      <td>Free</td>\n",
       "      <td>Neutral</td>\n",
       "      <td>2</td>\n",
       "      <td>0</td>\n",
       "      <td>870</td>\n",
       "      <td>50</td>\n",
       "      <td>97</td>\n",
       "      <td>87</td>\n",
       "      <td>50</td>\n",
       "      <td>75</td>\n",
       "    </tr>\n",
       "    <tr>\n",
       "      <th>3</th>\n",
       "      <td>4</td>\n",
       "      <td>Botamon</td>\n",
       "      <td>Baby</td>\n",
       "      <td>Free</td>\n",
       "      <td>Neutral</td>\n",
       "      <td>2</td>\n",
       "      <td>0</td>\n",
       "      <td>690</td>\n",
       "      <td>68</td>\n",
       "      <td>77</td>\n",
       "      <td>95</td>\n",
       "      <td>76</td>\n",
       "      <td>61</td>\n",
       "    </tr>\n",
       "    <tr>\n",
       "      <th>4</th>\n",
       "      <td>5</td>\n",
       "      <td>Poyomon</td>\n",
       "      <td>Baby</td>\n",
       "      <td>Free</td>\n",
       "      <td>Neutral</td>\n",
       "      <td>2</td>\n",
       "      <td>0</td>\n",
       "      <td>540</td>\n",
       "      <td>98</td>\n",
       "      <td>54</td>\n",
       "      <td>59</td>\n",
       "      <td>95</td>\n",
       "      <td>86</td>\n",
       "    </tr>\n",
       "  </tbody>\n",
       "</table>\n",
       "</div>"
      ],
      "text/plain": [
       "   Number  Digimon Stage  Type Attribute  Memory  Equip Slots  Lv 50 HP  \\\n",
       "0       1  Kuramon  Baby  Free   Neutral       2            0       590   \n",
       "1       2  Pabumon  Baby  Free   Neutral       2            0       950   \n",
       "2       3  Punimon  Baby  Free   Neutral       2            0       870   \n",
       "3       4  Botamon  Baby  Free   Neutral       2            0       690   \n",
       "4       5  Poyomon  Baby  Free   Neutral       2            0       540   \n",
       "\n",
       "   Lv50 SP  Lv50 Atk  Lv50 Def  Lv50 Int  Lv50 Spd  \n",
       "0       77        79        69        68        95  \n",
       "1       62        76        76        69        68  \n",
       "2       50        97        87        50        75  \n",
       "3       68        77        95        76        61  \n",
       "4       98        54        59        95        86  "
      ]
     },
     "execution_count": 3,
     "metadata": {},
     "output_type": "execute_result"
    }
   ],
   "source": [
    "digimon.head()"
   ]
  },
  {
   "cell_type": "markdown",
   "metadata": {},
   "source": [
    "## Stage  vs Attribute"
   ]
  },
  {
   "cell_type": "markdown",
   "metadata": {},
   "source": [
    "ik verwacht geen correlatie tussen deze categories"
   ]
  },
  {
   "cell_type": "code",
   "execution_count": 4,
   "metadata": {},
   "outputs": [
    {
     "data": {
      "text/plain": [
       "<AxesSubplot:>"
      ]
     },
     "execution_count": 4,
     "metadata": {},
     "output_type": "execute_result"
    },
    {
     "data": {
      "image/png": "[encoded data removed]",
      "text/plain": [
       "<Figure size 432x288 with 1 Axes>"
      ]
     },
     "metadata": {
      "needs_background": "light"
     },
     "output_type": "display_data"
    }
   ],
   "source": [
    "digimon.Stage.value_counts().plot(kind='bar')"
   ]
  },
  {
   "cell_type": "code",
   "execution_count": 5,
   "metadata": {},
   "outputs": [
    {
     "data": {
      "text/plain": [
       "<AxesSubplot:>"
      ]
     },
     "execution_count": 5,
     "metadata": {},
     "output_type": "execute_result"
    },
    {
     "data": {
      "image/png": "[encoded data removed]",
      "text/plain": [
       "<Figure size 432x288 with 1 Axes>"
      ]
     },
     "metadata": {
      "needs_background": "light"
     },
     "output_type": "display_data"
    }
   ],
   "source": [
    "digimon.Attribute.value_counts().plot(kind='bar')"
   ]
  },
  {
   "cell_type": "code",
   "execution_count": 11,
   "metadata": {},
   "outputs": [
    {
     "data": {
      "text/html": [
       "<div>\n",
       "<style scoped>\n",
       "    .dataframe tbody tr th:only-of-type {\n",
       "        vertical-align: middle;\n",
       "    }\n",
       "\n",
       "    .dataframe tbody tr th {\n",
       "        vertical-align: top;\n",
       "    }\n",
       "\n",
       "    .dataframe thead th {\n",
       "        text-align: right;\n",
       "    }\n",
       "</style>\n",
       "<table border=\"1\" class=\"dataframe\">\n",
       "  <thead>\n",
       "    <tr style=\"text-align: right;\">\n",
       "      <th>Stage</th>\n",
       "      <th>Armor</th>\n",
       "      <th>Baby</th>\n",
       "      <th>Champion</th>\n",
       "      <th>In-Training</th>\n",
       "      <th>Mega</th>\n",
       "      <th>Rookie</th>\n",
       "      <th>Ultimate</th>\n",
       "      <th>Ultra</th>\n",
       "    </tr>\n",
       "    <tr>\n",
       "      <th>Attribute</th>\n",
       "      <th></th>\n",
       "      <th></th>\n",
       "      <th></th>\n",
       "      <th></th>\n",
       "      <th></th>\n",
       "      <th></th>\n",
       "      <th></th>\n",
       "      <th></th>\n",
       "    </tr>\n",
       "  </thead>\n",
       "  <tbody>\n",
       "    <tr>\n",
       "      <th>Dark</th>\n",
       "      <td>0</td>\n",
       "      <td>0</td>\n",
       "      <td>5</td>\n",
       "      <td>2</td>\n",
       "      <td>13</td>\n",
       "      <td>4</td>\n",
       "      <td>10</td>\n",
       "      <td>3</td>\n",
       "    </tr>\n",
       "    <tr>\n",
       "      <th>Earth</th>\n",
       "      <td>1</td>\n",
       "      <td>0</td>\n",
       "      <td>8</td>\n",
       "      <td>1</td>\n",
       "      <td>5</td>\n",
       "      <td>4</td>\n",
       "      <td>5</td>\n",
       "      <td>0</td>\n",
       "    </tr>\n",
       "    <tr>\n",
       "      <th>Electric</th>\n",
       "      <td>0</td>\n",
       "      <td>0</td>\n",
       "      <td>6</td>\n",
       "      <td>0</td>\n",
       "      <td>10</td>\n",
       "      <td>2</td>\n",
       "      <td>7</td>\n",
       "      <td>0</td>\n",
       "    </tr>\n",
       "    <tr>\n",
       "      <th>Fire</th>\n",
       "      <td>1</td>\n",
       "      <td>0</td>\n",
       "      <td>10</td>\n",
       "      <td>1</td>\n",
       "      <td>7</td>\n",
       "      <td>6</td>\n",
       "      <td>8</td>\n",
       "      <td>0</td>\n",
       "    </tr>\n",
       "    <tr>\n",
       "      <th>Light</th>\n",
       "      <td>1</td>\n",
       "      <td>0</td>\n",
       "      <td>4</td>\n",
       "      <td>1</td>\n",
       "      <td>11</td>\n",
       "      <td>4</td>\n",
       "      <td>6</td>\n",
       "      <td>2</td>\n",
       "    </tr>\n",
       "    <tr>\n",
       "      <th>Neutral</th>\n",
       "      <td>0</td>\n",
       "      <td>5</td>\n",
       "      <td>3</td>\n",
       "      <td>2</td>\n",
       "      <td>7</td>\n",
       "      <td>4</td>\n",
       "      <td>6</td>\n",
       "      <td>1</td>\n",
       "    </tr>\n",
       "    <tr>\n",
       "      <th>Plant</th>\n",
       "      <td>0</td>\n",
       "      <td>0</td>\n",
       "      <td>7</td>\n",
       "      <td>2</td>\n",
       "      <td>6</td>\n",
       "      <td>5</td>\n",
       "      <td>5</td>\n",
       "      <td>0</td>\n",
       "    </tr>\n",
       "    <tr>\n",
       "      <th>Water</th>\n",
       "      <td>0</td>\n",
       "      <td>0</td>\n",
       "      <td>7</td>\n",
       "      <td>1</td>\n",
       "      <td>7</td>\n",
       "      <td>4</td>\n",
       "      <td>5</td>\n",
       "      <td>0</td>\n",
       "    </tr>\n",
       "    <tr>\n",
       "      <th>Wind</th>\n",
       "      <td>0</td>\n",
       "      <td>0</td>\n",
       "      <td>4</td>\n",
       "      <td>1</td>\n",
       "      <td>8</td>\n",
       "      <td>5</td>\n",
       "      <td>6</td>\n",
       "      <td>0</td>\n",
       "    </tr>\n",
       "  </tbody>\n",
       "</table>\n",
       "</div>"
      ],
      "text/plain": [
       "Stage      Armor  Baby  Champion  In-Training  Mega  Rookie  Ultimate  Ultra\n",
       "Attribute                                                                   \n",
       "Dark           0     0         5            2    13       4        10      3\n",
       "Earth          1     0         8            1     5       4         5      0\n",
       "Electric       0     0         6            0    10       2         7      0\n",
       "Fire           1     0        10            1     7       6         8      0\n",
       "Light          1     0         4            1    11       4         6      2\n",
       "Neutral        0     5         3            2     7       4         6      1\n",
       "Plant          0     0         7            2     6       5         5      0\n",
       "Water          0     0         7            1     7       4         5      0\n",
       "Wind           0     0         4            1     8       5         6      0"
      ]
     },
     "execution_count": 11,
     "metadata": {},
     "output_type": "execute_result"
    }
   ],
   "source": [
    "contingencyTable = digimon.groupby(['Stage','Attribute']).size().unstack('Stage', fill_value=0)\n",
    "contingencyTable"
   ]
  },
  {
   "cell_type": "markdown",
   "metadata": {},
   "source": [
    "je ziet hier dat bij de stage armor de attributen, dark, electric, neutral, plant, water en wint allemaal 0 zijn. Dit betekent dat armor niet voorkomt bij deze attributen. Bij baby stage zijn alle attributen 0 behalve neutral. Dus alle attributen komen hier niet voor bij de baby stage behalve de neutral attribute. Bij de rest zie je wel verschillen eigenlijk, maar bij ultra zie je weer dat de meeste attributen 0 keer voorkomen behalve de dark attribuut, de light attrubute en de neutral attribute."
   ]
  },
  {
   "cell_type": "code",
   "execution_count": 12,
   "metadata": {},
   "outputs": [
    {
     "data": {
      "text/plain": [
       "<AxesSubplot:xlabel='Attribute'>"
      ]
     },
     "execution_count": 12,
     "metadata": {},
     "output_type": "execute_result"
    },
    {
     "data": {
      "image/png": "[encoded data removed]",
      "text/plain": [
       "<Figure size 432x288 with 1 Axes>"
      ]
     },
     "metadata": {
      "needs_background": "light"
     },
     "output_type": "display_data"
    }
   ],
   "source": [
    "contingencyTable.plot(kind='bar')"
   ]
  },
  {
   "cell_type": "markdown",
   "metadata": {},
   "source": [
    "Je ziet overal verschillen tussen alle categorieen. Je ziet dat sommige stages niet voorkomen bij de attributen, bijvoorbeeld bij Dark, zie je dat Armor, baby niet voorkomt. Dit klopt ook met de tabel. Bijvoorbeeld bij plant zie je dat armor, baby en ultra niet voorkomen enzovoort."
   ]
  },
  {
   "cell_type": "code",
   "execution_count": 8,
   "metadata": {},
   "outputs": [
    {
     "data": {
      "text/plain": [
       "(74.09777624477839,\n",
       " 0.05306703774738181,\n",
       " 56,\n",
       " array([[ 0.44578313,  0.74297189,  8.02409639,  1.63453815, 10.99598394,\n",
       "          5.64658635,  8.6184739 ,  0.89156627],\n",
       "        [ 0.28915663,  0.48192771,  5.20481928,  1.06024096,  7.13253012,\n",
       "          3.6626506 ,  5.59036145,  0.57831325],\n",
       "        [ 0.30120482,  0.50200803,  5.42168675,  1.10441767,  7.42971888,\n",
       "          3.81526104,  5.82329317,  0.60240964],\n",
       "        [ 0.39759036,  0.6626506 ,  7.15662651,  1.45783133,  9.80722892,\n",
       "          5.03614458,  7.68674699,  0.79518072],\n",
       "        [ 0.34939759,  0.58232932,  6.28915663,  1.2811245 ,  8.6184739 ,\n",
       "          4.42570281,  6.75502008,  0.69879518],\n",
       "        [ 0.3373494 ,  0.562249  ,  6.07228916,  1.23694779,  8.32128514,\n",
       "          4.27309237,  6.52208835,  0.6746988 ],\n",
       "        [ 0.30120482,  0.50200803,  5.42168675,  1.10441767,  7.42971888,\n",
       "          3.81526104,  5.82329317,  0.60240964],\n",
       "        [ 0.28915663,  0.48192771,  5.20481928,  1.06024096,  7.13253012,\n",
       "          3.6626506 ,  5.59036145,  0.57831325],\n",
       "        [ 0.28915663,  0.48192771,  5.20481928,  1.06024096,  7.13253012,\n",
       "          3.6626506 ,  5.59036145,  0.57831325]]))"
      ]
     },
     "execution_count": 8,
     "metadata": {},
     "output_type": "execute_result"
    }
   ],
   "source": [
    "from scipy.stats import chi2_contingency\n",
    "chi2_contingency(contingencyTable)"
   ]
  },
  {
   "cell_type": "markdown",
   "metadata": {},
   "source": [
    "0.05% kans dat er geen verschil is"
   ]
  },
  {
   "cell_type": "code",
   "execution_count": null,
   "metadata": {},
   "outputs": [],
   "source": []
  }
 ],
 "metadata": {
  "kernelspec": {
   "display_name": "Python 3",
   "language": "python",
   "name": "python3"
  },
  "language_info": {
   "codemirror_mode": {
    "name": "ipython",
    "version": 3
   },
   "file_extension": ".py",
   "mimetype": "text/x-python",
   "name": "python",
   "nbconvert_exporter": "python",
   "pygments_lexer": "ipython3",
   "version": "3.8.5"
  }
 },
 "nbformat": 4,
 "nbformat_minor": 2
}
